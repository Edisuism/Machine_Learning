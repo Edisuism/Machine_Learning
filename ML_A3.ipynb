{
  "nbformat": 4,
  "nbformat_minor": 0,
  "metadata": {
    "colab": {
      "name": "ML_A3.ipynb",
      "provenance": [],
      "collapsed_sections": [],
      "toc_visible": true,
      "include_colab_link": true
    },
    "kernelspec": {
      "name": "python3",
      "display_name": "Python 3"
    }
  },
  "cells": [
    {
      "cell_type": "markdown",
      "metadata": {
        "id": "view-in-github",
        "colab_type": "text"
      },
      "source": [
        "<a href=\"https://colab.research.google.com/github/Edisuism/Machine_Learning/blob/master/ML_A3.ipynb\" target=\"_parent\"><img src=\"https://colab.research.google.com/assets/colab-badge.svg\" alt=\"Open In Colab\"/></a>"
      ]
    },
    {
      "cell_type": "markdown",
      "metadata": {
        "id": "a2WKDzUIIOrz",
        "colab_type": "text"
      },
      "source": [
        "# 31005 Question 3\n"
      ]
    },
    {
      "cell_type": "markdown",
      "metadata": {
        "id": "divdisWxFtF5",
        "colab_type": "text"
      },
      "source": [
        "# Difficulties"
      ]
    },
    {
      "cell_type": "markdown",
      "metadata": {
        "id": "wFORRoTfF_9p",
        "colab_type": "text"
      },
      "source": [
        "In order to explore the difficulties of this problem, it is important to understand what a tweet going viral actually entails. A Ted Talk made by Alocca in 2012 explains virality in terms of videos as those that gets “tons of views and becomes a cultural moment”. He in addition, explores how it occurs as a result of numerous factors such as “unexpectedness”, “tastemakers” and “community” as opposed to solely by the content of the source itself.\n",
        "\n",
        "In identifying these features of virality, we realise what establishes it as a difficult phenomenon to predict and construct, that is, the complexity of human language, the amount of data to analyse and multimedia classification. “Unexpectedness” typically creates suspense, humour and various sentiments, all of which machines have difficulty identifying with. In addition, when dealing with text in particular, human language poses significant challenges for machine learning as they can vary significantly from person to person being sarcastic for some, grammatically incorrect for others and have incorrect spelling (Dhaoui et al. 2017). Parts of these errors can also constitute part of the meaning of the text which further complexifies classifiers. A feature of posts on twitter are keywords, hashtags and ‘@’ symbols, all of which can be important in understanding the context of the posts as well as determine the likelihood of spread which leads to the next problem in predicting virality “tastemakers” and “community”.\n",
        "\n",
        "The two recent aforementioned features of virality mentioned by Alocca alludes to further difficulties in predicting the spread of posts in that it is ineffective or impossible to determine accurately it by only analysing the post itself. This is due to how posts go viral which is through being shared through a social network that grows exponentially until all interested users have seen it. Thus it is a necessity to look at the community as a whole such as the details of the user who created the post, their number and type of followers as well as the time of the post to name a few factors. The amount of data only increases from here as it becomes critical to also analyse other features of the posts in the comments as well as the existence of keywords, hashtags and ‘@’ symbols within them, all of which extend the reach of the post into different pages, unconnected users and the followers of those extensions. Evidently, the propensity for virality a post has relies and changes significantly depending on contextual details and as such, it becomes crucial for classifiers to run in real time in order to have access to fresh data (Jain et al. 2014). This significant volume of data makes it practically a necessity to apply machine learning in analysing data (Zoonen et al. 2016).\n",
        "\n",
        "Furthermore, twitter posts are multimedia platforms with the ability to contain pictures, videos and emojis which can all influence the sentiment and meaning of them significantly (Dhaoui et al. 2017). Understanding the complex interweaving of different mediums within a post exponentially increases the difficulty of classifying whether a post will become viral or not, as measures to deconstruct images, join images and relate images with text and context would become necessary"
      ]
    },
    {
      "cell_type": "markdown",
      "metadata": {
        "id": "yUVgdA7xFwCP",
        "colab_type": "text"
      },
      "source": [
        "# Approaches\n"
      ]
    },
    {
      "cell_type": "markdown",
      "metadata": {
        "id": "DM40-0nHGFPq",
        "colab_type": "text"
      },
      "source": [
        "1) Extracting meaning and emotion from language \n",
        "\n",
        "2) Analysing relationships \n",
        "\n",
        "3) Analysing user demographics \n",
        "\n",
        "1) Current approaches in drawing meaning from language typically fall into 2 categories: machine learning classifiers and lexicon classifiers using weighted words, though explorations into a hybrid of the two have demonstrated strong results as well (Dhaoui et al. 2017). Machine learning classifiers work by having coders manually define the classes to be classified and labelling numerous examples with the class they belong to. These sample sets will be split into training and test sets in order to train the classifier to identify typical attributes of different classes and then measure to see how accurate it is in doing so for unseen data. SVMs and naive-Bayes learners have demonstrated the strongest results. Lexicon classifiers have a dictionary of words as well as a sentiment associated with it e.g. the word “happy” would have a positive sentiment. LIWC2015 is an example of a text-mining software used for Lexicon classification of data which through consideration of probabilities of words in sentences categorise them into different sentiment classes as output. A hybrid of the two involves training a machine learning classifier using data outputted from a Lexicon classification approach instead of having tweets being manually labeled which automates the process completely and has demonstrated stronger results than solely using Lexicon classification (Liu et al., 2011) \n",
        "\n",
        "2) The field of analysing relationships especially in real time to meet the demands of predicting virality to the highest degree of accuracy possible is relatively new but still has had effective approaches in the form of the CrowdCast framework (Jain et al. 2014). The essential steps in this framework involve sampling a percentage of live tweets, calculating the metrics of the tweets such as retweets and likes, calculating a ‘page rank’ using graph analysis in order to determine and explore user relationships such as their followers and then finally assigning content a rank in descending order of likelihood of to go viral (quantified as 500 times the original viewership assuming the original viewership is determined to be unpopular or below 1000). The frameworks is able to function in real time by maintaining slight computational delay while building a continuously updated analytic cache which though reduces data freshness while analysing data and training classifiers, improves efficiency gain dramatically. One of the main innovations of this approach is viewing activity on twitter as a scale-free graph which makes average path estimations efficient by allowing for real time detection of information dispersion. \n",
        "\n",
        "3) Approaches in analysing user demographics typically involve a combination of SVM and Bayes learning methods with facial recognition and image classification software to optimise results (Cesare et al. 2018). The method in which the aforementioned tools would be applied varies in what features of the user is targeted such as age and gender in order to optimise findings. For example, in classifying gender, colours of user pictures and linguistic focused classification on user names would be used to determine gender with vowel-ending names typically related to female users. In contrast, while classifying age, methods such as comparing first names to name popularity over the years and text-analytic software could be used with success of determining age being associated with the latter’s ability to find previous mentions of age and ability to recognise linguistics typically used by users of different ages. \n",
        "\n",
        "\n"
      ]
    },
    {
      "cell_type": "markdown",
      "metadata": {
        "id": "Jp_qECi3Gg7K",
        "colab_type": "text"
      },
      "source": [
        "# Validating Approaches\n"
      ]
    },
    {
      "cell_type": "markdown",
      "metadata": {
        "id": "JsJJfl02Gl55",
        "colab_type": "text"
      },
      "source": [
        "1) Extracting meaning and emotion from language \n",
        "\n",
        "2) Analysing relationships \n",
        "\n",
        "3) Analysing user demographics \n",
        "\n",
        "1) Results can be validated with regards to numerous factors, namely: precision (proportion of correct positive classifications from cases predicted as positive) and recall (proportion of correct positive classifications from cases that are actually positive). However, combining these measures into an F-score which is defined as the ‘harmonic mean of recall and precision’, it is possible to achieve a stronger measure of performance by considering both factors. A higher F-score is associated with greater recall and precision. Accuracy is avoided as a measure as classifiers can be overtrained to favour a certain result e.g. positive sentiment.\n",
        "\n",
        "2) Can be validated by using Twitter’s free 1% live tweet stream and comparing the output of the method to twitter analytics in the form of the measure of ‘impressions’ (amount the post has been seen or ‘engagements’ (amount the post has been click on)(Jain et al. 2014). It is difficult to measure success completely as screenshots can be taken of posts and shared elsewhere to achieve virality.\n",
        "\n",
        "3) Similar to validating the method for extracting meaning and emotion from language, an F-score can be used to determine whether the classifier was successful"
      ]
    },
    {
      "cell_type": "markdown",
      "metadata": {
        "id": "OZWlUjU6F4sR",
        "colab_type": "text"
      },
      "source": [
        "# Social and Ethical\n"
      ]
    },
    {
      "cell_type": "markdown",
      "metadata": {
        "id": "lwX7HBj6GLbI",
        "colab_type": "text"
      },
      "source": [
        "Much of the approaches mentioned previously have taken advantage of public information available online, namely on Twitter. Mentioned in the Belmont Report and Common rule, justice, beneficence and informed consent should be maintained while conducting social research thought it is difficult to adhere to when dealing with such a large sample size if not impossible. This is especially difficult when users of social media sites such as Twitter only accept messages from those they are connected to which prevents notifications that their data/profile has been used/visited which would have been a viable method to better inform users of how their data is being used online and encourage them to make changes to their online presence if it is disagreeable to them. In specific, consent can lead to significant impacts on the validity of samples to make inferences on a population due to certain users being more likely to consent than others which impacts the randomness of the sample."
      ]
    },
    {
      "cell_type": "markdown",
      "metadata": {
        "id": "EA0i5cWLF8FZ",
        "colab_type": "text"
      },
      "source": [
        "# Bibliography\n"
      ]
    },
    {
      "cell_type": "markdown",
      "metadata": {
        "id": "FCSUFEvCGOS8",
        "colab_type": "text"
      },
      "source": [
        "Cesare, N. et al. 2018, ‘How well can machine learning predict demographics of social media users?’, pp. 1-25.\n",
        "\n",
        "\n",
        "Dhaoui, C. 2017, ‘Social media sentiment analysis: lexicon versus machine learning’, pp. 1-10\n",
        "\n",
        "\n",
        "Jain, P. et al. 2014, ‘Scalable Social Analytics for Live Viral Event Prediction’, pp. 1-10\n",
        "\n",
        "\n",
        "Zoonen, W.V. et al. 2016, ‘Social media research: The applications of supervised machine learning in organizational communication research’, Computers in Human Behaviour, pp. 132-141."
      ]
    },
    {
      "cell_type": "markdown",
      "metadata": {
        "id": "PJn3W9unHeRe",
        "colab_type": "text"
      },
      "source": [
        "# Link to Git\n"
      ]
    },
    {
      "cell_type": "markdown",
      "metadata": {
        "id": "xYlxb2OfHg38",
        "colab_type": "text"
      },
      "source": [
        "\n",
        "https://github.com/Edisuism/Machine_Learning/blob/master/ML_A3.ipynb\n"
      ]
    }
  ]
}